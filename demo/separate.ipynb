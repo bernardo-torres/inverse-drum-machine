{
 "cells": [
  {
   "cell_type": "code",
   "execution_count": 5,
   "id": "cf85e4b5",
   "metadata": {},
   "outputs": [
    {
     "name": "stdout",
     "output_type": "stream",
     "text": [
      "Loading model: idm-44-train-kits\n",
      "Found checkpoint at: logs/idm-44-train-kits/checkpoints/val-epoch=518-global_step=0.ckpt\n"
     ]
    },
    {
     "ename": "RuntimeError",
     "evalue": "istft(CUDAComplexFloatType[1, 9, 1, 513, 8276], n_fft=1024, hop_length=256, win_length=1024, window=None, center=1, normalized=0, onesided=None, length=2118268, return_complex=0) : expected a tensor with 3 or 4 dimensions, but got 6",
     "output_type": "error",
     "traceback": [
      "\u001b[0;31m---------------------------------------------------------------------------\u001b[0m",
      "\u001b[0;31mRuntimeError\u001b[0m                              Traceback (most recent call last)",
      "Cell \u001b[0;32mIn[5], line 11\u001b[0m\n\u001b[1;32m      9\u001b[0m drum_loop_44_1khz \u001b[38;5;241m=\u001b[39m \u001b[38;5;124m\"\u001b[39m\u001b[38;5;124m/home/bernardo/Projects/inverse-drum-machine-clean/demo/separation_outputs/eval_session_train_kits/4_soul-groove4_80_beat_4-4_retro_rock/mix.wav\u001b[39m\u001b[38;5;124m\"\u001b[39m\n\u001b[1;32m     10\u001b[0m output_dir \u001b[38;5;241m=\u001b[39m \u001b[38;5;124m\"\u001b[39m\u001b[38;5;124moutput/separated\u001b[39m\u001b[38;5;124m\"\u001b[39m\n\u001b[0;32m---> 11\u001b[0m \u001b[43mseparate\u001b[49m\u001b[43m(\u001b[49m\u001b[43mdrum_loop_44_1khz\u001b[49m\u001b[43m,\u001b[49m\u001b[43m \u001b[49m\u001b[43mmodel\u001b[49m\u001b[43m,\u001b[49m\u001b[43m \u001b[49m\u001b[43moutput_dir\u001b[49m\u001b[38;5;241;43m=\u001b[39;49m\u001b[43moutput_dir\u001b[49m\u001b[43m)\u001b[49m\n",
      "File \u001b[0;32m~/Projects/inverse-drum-machine-clean/idm/inference.py:249\u001b[0m, in \u001b[0;36mseparate\u001b[0;34m(audio_path, model, output_dir, masking, alpha)\u001b[0m\n\u001b[1;32m    247\u001b[0m     synth_tf \u001b[38;5;241m=\u001b[39m transform(synth_stems)\n\u001b[1;32m    248\u001b[0m     masked_stems_tf \u001b[38;5;241m=\u001b[39m estimate_masks(mix_tf, synth_tf, masking_type\u001b[38;5;241m=\u001b[39mmasking, alpha\u001b[38;5;241m=\u001b[39malpha)\n\u001b[0;32m--> 249\u001b[0m     separated_stems \u001b[38;5;241m=\u001b[39m \u001b[43mtransform\u001b[49m\u001b[38;5;241;43m.\u001b[39;49m\u001b[43minverse\u001b[49m\u001b[43m(\u001b[49m\u001b[43mmasked_stems_tf\u001b[49m\u001b[43m,\u001b[49m\u001b[43m \u001b[49m\u001b[43mlength\u001b[49m\u001b[38;5;241;43m=\u001b[39;49m\u001b[43maudio\u001b[49m\u001b[38;5;241;43m.\u001b[39;49m\u001b[43mshape\u001b[49m\u001b[43m[\u001b[49m\u001b[38;5;241;43m-\u001b[39;49m\u001b[38;5;241;43m1\u001b[39;49m\u001b[43m]\u001b[49m\u001b[43m)\u001b[49m\n\u001b[1;32m    250\u001b[0m \u001b[38;5;28;01melse\u001b[39;00m:\n\u001b[1;32m    251\u001b[0m     separated_stems \u001b[38;5;241m=\u001b[39m synth_stems\n",
      "File \u001b[0;32m~/Projects/inverse-drum-machine-clean/idm/feature_extractor/stft.py:162\u001b[0m, in \u001b[0;36mSTFT.inverse\u001b[0;34m(self, X, length, n_iter)\u001b[0m\n\u001b[1;32m    159\u001b[0m     X \u001b[38;5;241m=\u001b[39m \u001b[38;5;28mself\u001b[39m\u001b[38;5;241m.\u001b[39m_griffin_lim(X, n_iter)\n\u001b[1;32m    161\u001b[0m \u001b[38;5;66;03m# Inverse STFT\u001b[39;00m\n\u001b[0;32m--> 162\u001b[0m x \u001b[38;5;241m=\u001b[39m \u001b[43mtorch\u001b[49m\u001b[38;5;241;43m.\u001b[39;49m\u001b[43mistft\u001b[49m\u001b[43m(\u001b[49m\u001b[43mX\u001b[49m\u001b[43m,\u001b[49m\u001b[43m \u001b[49m\u001b[38;5;241;43m*\u001b[39;49m\u001b[38;5;241;43m*\u001b[39;49m\u001b[38;5;28;43mself\u001b[39;49m\u001b[38;5;241;43m.\u001b[39;49m\u001b[43mifft_kwargs\u001b[49m\u001b[43m,\u001b[49m\u001b[43m \u001b[49m\u001b[43mlength\u001b[49m\u001b[38;5;241;43m=\u001b[39;49m\u001b[43mlength\u001b[49m\u001b[43m)\u001b[49m\n\u001b[1;32m    164\u001b[0m \u001b[38;5;66;03m# Reshape if necessary\u001b[39;00m\n\u001b[1;32m    165\u001b[0m \u001b[38;5;28;01mif\u001b[39;00m \u001b[38;5;28mlen\u001b[39m(original_shape) \u001b[38;5;241m==\u001b[39m \u001b[38;5;241m4\u001b[39m:\n",
      "\u001b[0;31mRuntimeError\u001b[0m: istft(CUDAComplexFloatType[1, 9, 1, 513, 8276], n_fft=1024, hop_length=256, win_length=1024, window=None, center=1, normalized=0, onesided=None, length=2118268, return_complex=0) : expected a tensor with 3 or 4 dimensions, but got 6"
     ]
    }
   ],
   "source": [
    "import torch\n",
    "from idm.inference import load_model, separate\n",
    "\n",
    "# Load the pre-trained model\n",
    "device = torch.device(\"cuda\" if torch.cuda.is_available() else \"cpu\")\n",
    "model, name = load_model('idm-44-train-kits', device)\n",
    "\n",
    "# Separate the drum stems from an audio file\n",
    "drum_loop_44_1khz = \"/home/bernardo/Projects/inverse-drum-machine-clean/demo/separation_outputs/eval_session_train_kits/4_soul-groove4_80_beat_4-4_retro_rock/mix.wav\"\n",
    "output_dir = \"output/separated\"\n",
    "separate(drum_loop_44_1khz, model, output_dir=output_dir)"
   ]
  },
  {
   "cell_type": "code",
   "execution_count": null,
   "id": "5da43085",
   "metadata": {},
   "outputs": [],
   "source": []
  }
 ],
 "metadata": {
  "kernelspec": {
   "display_name": "ddsp",
   "language": "python",
   "name": "python3"
  },
  "language_info": {
   "codemirror_mode": {
    "name": "ipython",
    "version": 3
   },
   "file_extension": ".py",
   "mimetype": "text/x-python",
   "name": "python",
   "nbconvert_exporter": "python",
   "pygments_lexer": "ipython3",
   "version": "3.10.13"
  }
 },
 "nbformat": 4,
 "nbformat_minor": 5
}
